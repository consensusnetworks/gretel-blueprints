{
 "cells": [
  {
   "cell_type": "markdown",
   "metadata": {
    "colab_type": "text",
    "id": "view-in-github"
   },
   "source": [
    "<a href=\"https://colab.research.google.com/github/gretelai/gretel-blueprints/blob/main/docs/notebooks/create_synthetic_data_smart_seeding.ipynb\" target=\"_parent\"><img src=\"https://colab.research.google.com/assets/colab-badge.svg\" alt=\"Open In Colab\"/></a>"
   ]
  },
  {
   "cell_type": "markdown",
   "metadata": {
    "id": "UTRxpSlaczHY"
   },
   "source": [
    "# Create synthetic data from partial rows\n",
    "\n",
    "This blueprint utilizes Gretel's premium SDKs to create a synthetic version of your own data.  This blueprint uses\n",
    "a helper model known as a `SeriesModel`.  Gretel uses a feature known as \"smart seeding\" that will generate rows based on partial values from your training data.  This is useful when you want to utilize unique column values as input to the model and let Gretel synthesize the rest of the row for you.\n",
    "\n",
    "Use Cases for Series Data Synthesis:\n",
    "\n",
    "- Create synthetic data that has the same number of rows as the training data\n",
    "- You want to preserve some of the original row data (primary keys, dates, important categorical data).\n",
    "\n",
    "Essentially this model will let you just take partial rows from the training data, and synthesize the rest of\n",
    "the rows for you.\n",
    "\n",
    "In the example below, we'll use a combination of a primary key and a couple of categorical fields as seed input."
   ]
  },
  {
   "cell_type": "code",
   "execution_count": null,
   "metadata": {
    "id": "VEM6kjRsczHd"
   },
   "outputs": [],
   "source": [
    "%%capture\n",
    "\n",
    "!pip install pandas\n",
    "!pip install -U gretel-client"
   ]
  },
  {
   "cell_type": "code",
   "execution_count": null,
   "metadata": {
    "id": "ZQ-TmAdwczHd"
   },
   "outputs": [],
   "source": [
    "# Specify your Gretel API key\n",
    "\n",
    "from getpass import getpass\n",
    "import pandas as pd\n",
    "from gretel_client import configure_session, ClientConfig\n",
    "\n",
    "pd.set_option('max_colwidth', None)\n",
    "\n",
    "configure_session(ClientConfig(api_key=getpass(prompt=\"Enter Gretel API key\"), \n",
    "                               endpoint=\"https://api.gretel.cloud\"))"
   ]
  },
  {
   "cell_type": "code",
   "execution_count": null,
   "metadata": {
    "id": "YMg9nX6SczHe"
   },
   "outputs": [],
   "source": [
    "# Load and preview dataset\n",
    "\n",
    "import pandas as pd\n",
    "\n",
    "dataset_path = \"https://gretel-public-website.s3-us-west-2.amazonaws.com/datasets/customer_finance_data.csv\"\n",
    "\n",
    "# We will pull down the training data to drop an ID column.  This will help give us a better model.\n",
    "training_df = pd.read_csv(dataset_path)\n",
    "\n",
    "try:\n",
    "    training_df.drop(\"disp_id\", axis=\"columns\", inplace=True)\n",
    "except KeyError:\n",
    "    pass # incase we already dropped it\n",
    "\n",
    "training_df.head()"
   ]
  },
  {
   "cell_type": "code",
   "execution_count": null,
   "metadata": {},
   "outputs": [],
   "source": [
    "from smart_open import open\n",
    "import yaml\n",
    "\n",
    "from gretel_client import create_project\n",
    "from gretel_client.helpers import poll\n",
    "\n",
    "# Create a project and model configuration.\n",
    "project = create_project(display_name=\"create-synthetic-data-smart-seeding\")\n",
    "\n",
    "# Pull down the default synthetic config.  We will modify it slightly.\n",
    "with open(\"https://raw.githubusercontent.com/gretelai/gretel-blueprints/main/config_templates/gretel/synthetics/default.yml\", 'r') as stream:\n",
    "    config = yaml.safe_load(stream)\n",
    "\n",
    "# Here we prepare an object to specify the smart seeding task.\n",
    "fields=[\"client_id\", \"age\", \"gender\"]\n",
    "\n",
    "task = {\n",
    "    'type': 'seed',\n",
    "    'attrs': {\n",
    "        'fields': fields\n",
    "    }\n",
    "}\n",
    "\n",
    "config['models'][0]['synthetics']['task'] = task\n",
    "\n",
    "config['models'][0]['synthetics']['generate'] = {'max_invalid': 10000}\n",
    "\n",
    "model = project.create_model_obj(model_config=config)\n",
    "\n",
    "# Get a csv to work with, just dump out the training_set.\n",
    "training_df.to_csv('train.csv', index=False)\n",
    "model.data_source = 'train.csv'\n",
    "\n",
    "# Upload the training data.  Train the model.\n",
    "model.submit(upload_data_source=True)\n",
    "\n",
    "poll(model)\n",
    "\n",
    "# Use the model to generate synthetic data.\n",
    "record_handler = model.create_record_handler_obj()\n",
    "\n",
    "record_handler.submit(\n",
    "    action=\"generate\",\n",
    "    params={\"num_records\": 5000, \"max_invalid\": 5000}\n",
    ")\n",
    "\n",
    "poll(record_handler)\n",
    "\n",
    "synthetic = pd.read_csv(record_handler.get_artifact_link(\"data\"), compression='gzip')\n",
    "\n",
    "synthetic.head()"
   ]
  },
  {
   "cell_type": "code",
   "execution_count": null,
   "metadata": {},
   "outputs": [],
   "source": [
    "# Generate report that shows the statistical performance between the training and synthetic data\n",
    "\n",
    "import IPython\n",
    "from smart_open import open\n",
    "\n",
    "IPython.display.HTML(data=open(model.get_artifact_link(\"report\")).read())"
   ]
  }
 ],
 "metadata": {
  "accelerator": "GPU",
  "colab": {
   "collapsed_sections": [],
   "name": "smart-seed-blueprint",
   "provenance": []
  },
  "kernelspec": {
   "display_name": "Python 3",
   "language": "python",
   "name": "python3"
  },
  "language_info": {
   "codemirror_mode": {
    "name": "ipython",
    "version": 3
   },
   "file_extension": ".py",
   "mimetype": "text/x-python",
   "name": "python",
   "nbconvert_exporter": "python",
   "pygments_lexer": "ipython3",
   "version": "3.7.9"
  }
 },
 "nbformat": 4,
 "nbformat_minor": 1
}
